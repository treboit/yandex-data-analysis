{
 "cells": [
  {
   "cell_type": "markdown",
   "metadata": {},
   "source": [
    "# Рынок заведений общественного питания Москвы\n",
    "**Описание проекта**  \n",
    "Вы решили открыть небольшое кафе в Москве. Оно оригинальное — гостей должны обслуживать роботы. Проект многообещающий, но дорогой. Вместе с партнёрами вы решились обратиться к инвесторам. Их интересует текущее положение дел на рынке — сможете ли вы снискать популярность на долгое время, когда все зеваки насмотрятся на роботов-официантов? Вы — гуру аналитики, и партнёры просят вас подготовить исследование рынка. У вас есть открытые данные о заведениях общественного питания в Москве.  \n",
    "  \n",
    "### Оглавление\n",
    "[Шаг 1. Загрузка и предобработка данных](#1)\n",
    "- [Загрузка библиотек](#1_1) \n",
    "- [Загрузка данных](#1_2) \n",
    "- [Предобработка данных](#1_3) \n",
    "- [Обработка названий](#1_4) \n",
    "- [Обработка адресов](#1_5) \n",
    "\n",
    "[Шаг №2. Анализ данных](#2)\n",
    "- [Соотношение количества заведений по виду и сетевым / несетевым](#2_1) \n",
    "- [Для какого вида объекта общественного питания характерно сетевое распространение?](#2_2) \n",
    "- [Что характерно для сетевых заведений?](#2_3) \n",
    "- [Среднее количество посадочных мест для каждого вида объекта ](#2_4)  \n",
    "- [Топ-10 улиц по количеству объектов общественного питания](#2_5) \n",
    "- [Улицы с одним объектом общественного питания](#2_7) \n",
    "- [Распределение количества посадочных мест](#2_7) \n",
    "- [Общий вывод](#2_8)\n",
    "\n",
    "[Шаг №3. Презентация](#3)"
   ]
  },
  {
   "cell_type": "markdown",
   "metadata": {},
   "source": [
    "## Шаг 1. Загрузка и предобработка данных <a id=\"1\"></a> "
   ]
  },
  {
   "cell_type": "markdown",
   "metadata": {},
   "source": [
    "### Загрузка библиотек <a id=\"1_1\"></a>"
   ]
  },
  {
   "cell_type": "code",
   "execution_count": 1,
   "metadata": {},
   "outputs": [],
   "source": [
    "import pandas as pd\n",
    "import numpy as np\n",
    "import seaborn as sns\n",
    "import matplotlib.pyplot as plt\n",
    "import datetime\n",
    "import re\n",
    "from collections import Counter\n",
    "import requests\n",
    "from bs4 import BeautifulSoup"
   ]
  },
  {
   "cell_type": "markdown",
   "metadata": {},
   "source": [
    "### Загрузка данных <a id=\"1_2\"></a>"
   ]
  },
  {
   "cell_type": "code",
   "execution_count": 2,
   "metadata": {},
   "outputs": [
    {
     "data": {
      "text/html": [
       "<div>\n",
       "<style scoped>\n",
       "    .dataframe tbody tr th:only-of-type {\n",
       "        vertical-align: middle;\n",
       "    }\n",
       "\n",
       "    .dataframe tbody tr th {\n",
       "        vertical-align: top;\n",
       "    }\n",
       "\n",
       "    .dataframe thead th {\n",
       "        text-align: right;\n",
       "    }\n",
       "</style>\n",
       "<table border=\"1\" class=\"dataframe\">\n",
       "  <thead>\n",
       "    <tr style=\"text-align: right;\">\n",
       "      <th></th>\n",
       "      <th>id</th>\n",
       "      <th>object_name</th>\n",
       "      <th>chain</th>\n",
       "      <th>object_type</th>\n",
       "      <th>address</th>\n",
       "      <th>number</th>\n",
       "    </tr>\n",
       "  </thead>\n",
       "  <tbody>\n",
       "    <tr>\n",
       "      <td>0</td>\n",
       "      <td>151635</td>\n",
       "      <td>СМЕТАНА</td>\n",
       "      <td>нет</td>\n",
       "      <td>кафе</td>\n",
       "      <td>город Москва, улица Егора Абакумова, дом 9</td>\n",
       "      <td>48</td>\n",
       "    </tr>\n",
       "    <tr>\n",
       "      <td>1</td>\n",
       "      <td>77874</td>\n",
       "      <td>Родник</td>\n",
       "      <td>нет</td>\n",
       "      <td>кафе</td>\n",
       "      <td>город Москва, улица Талалихина, дом 2/1, корпус 1</td>\n",
       "      <td>35</td>\n",
       "    </tr>\n",
       "    <tr>\n",
       "      <td>2</td>\n",
       "      <td>24309</td>\n",
       "      <td>Кафе «Академия»</td>\n",
       "      <td>нет</td>\n",
       "      <td>кафе</td>\n",
       "      <td>город Москва, Абельмановская улица, дом 6</td>\n",
       "      <td>95</td>\n",
       "    </tr>\n",
       "    <tr>\n",
       "      <td>3</td>\n",
       "      <td>21894</td>\n",
       "      <td>ПИЦЦЕТОРИЯ</td>\n",
       "      <td>да</td>\n",
       "      <td>кафе</td>\n",
       "      <td>город Москва, Абрамцевская улица, дом 1</td>\n",
       "      <td>40</td>\n",
       "    </tr>\n",
       "    <tr>\n",
       "      <td>4</td>\n",
       "      <td>119365</td>\n",
       "      <td>Кафе «Вишневая метель»</td>\n",
       "      <td>нет</td>\n",
       "      <td>кафе</td>\n",
       "      <td>город Москва, Абрамцевская улица, дом 9, корпус 1</td>\n",
       "      <td>50</td>\n",
       "    </tr>\n",
       "  </tbody>\n",
       "</table>\n",
       "</div>"
      ],
      "text/plain": [
       "       id             object_name chain object_type  \\\n",
       "0  151635                 СМЕТАНА   нет        кафе   \n",
       "1   77874                  Родник   нет        кафе   \n",
       "2   24309         Кафе «Академия»   нет        кафе   \n",
       "3   21894              ПИЦЦЕТОРИЯ    да        кафе   \n",
       "4  119365  Кафе «Вишневая метель»   нет        кафе   \n",
       "\n",
       "                                             address  number  \n",
       "0         город Москва, улица Егора Абакумова, дом 9      48  \n",
       "1  город Москва, улица Талалихина, дом 2/1, корпус 1      35  \n",
       "2          город Москва, Абельмановская улица, дом 6      95  \n",
       "3            город Москва, Абрамцевская улица, дом 1      40  \n",
       "4  город Москва, Абрамцевская улица, дом 9, корпус 1      50  "
      ]
     },
     "execution_count": 2,
     "metadata": {},
     "output_type": "execute_result"
    }
   ],
   "source": [
    "df = pd.read_csv('/datasets/rest_data.csv')\n",
    "df.head()"
   ]
  },
  {
   "cell_type": "code",
   "execution_count": 3,
   "metadata": {},
   "outputs": [
    {
     "name": "stdout",
     "output_type": "stream",
     "text": [
      "<class 'pandas.core.frame.DataFrame'>\n",
      "RangeIndex: 15366 entries, 0 to 15365\n",
      "Data columns (total 6 columns):\n",
      "id             15366 non-null int64\n",
      "object_name    15366 non-null object\n",
      "chain          15366 non-null object\n",
      "object_type    15366 non-null object\n",
      "address        15366 non-null object\n",
      "number         15366 non-null int64\n",
      "dtypes: int64(2), object(4)\n",
      "memory usage: 720.4+ KB\n"
     ]
    }
   ],
   "source": [
    "df.info()"
   ]
  },
  {
   "cell_type": "markdown",
   "metadata": {},
   "source": [
    "Пропусков нет, типы данных корректны.  \n",
    "**Описание данных**  \n",
    "object_name — название объекта общественного питания;  \n",
    "chain — сетевой ресторан;  \n",
    "object_type — тип объекта общественного питания;  \n",
    "address — адрес;  \n",
    "number — количество посадочных мест."
   ]
  },
  {
   "cell_type": "markdown",
   "metadata": {},
   "source": [
    "### Предобработка данных <a id=\"1_3\"></a>  \n",
    "**Переименовываю столбцы**"
   ]
  },
  {
   "cell_type": "code",
   "execution_count": 4,
   "metadata": {},
   "outputs": [],
   "source": [
    "df.columns = ['id', 'name', 'chain', 'type', 'address', 'seats'] "
   ]
  },
  {
   "cell_type": "markdown",
   "metadata": {},
   "source": [
    "**Проверяю наличие дубликатов:**"
   ]
  },
  {
   "cell_type": "code",
   "execution_count": 5,
   "metadata": {},
   "outputs": [
    {
     "name": "stdout",
     "output_type": "stream",
     "text": [
      "0\n",
      "0\n",
      "344\n"
     ]
    }
   ],
   "source": [
    "print(len(df[df.duplicated() == True]))\n",
    "print(len(df[df.duplicated('id') == True]))\n",
    "print(len(df[df.duplicated(['name', 'address'], keep = False) == True]))"
   ]
  },
  {
   "cell_type": "code",
   "execution_count": 6,
   "metadata": {},
   "outputs": [
    {
     "data": {
      "text/html": [
       "<div>\n",
       "<style scoped>\n",
       "    .dataframe tbody tr th:only-of-type {\n",
       "        vertical-align: middle;\n",
       "    }\n",
       "\n",
       "    .dataframe tbody tr th {\n",
       "        vertical-align: top;\n",
       "    }\n",
       "\n",
       "    .dataframe thead th {\n",
       "        text-align: right;\n",
       "    }\n",
       "</style>\n",
       "<table border=\"1\" class=\"dataframe\">\n",
       "  <thead>\n",
       "    <tr style=\"text-align: right;\">\n",
       "      <th></th>\n",
       "      <th>name</th>\n",
       "      <th>address</th>\n",
       "      <th>id</th>\n",
       "    </tr>\n",
       "  </thead>\n",
       "  <tbody>\n",
       "    <tr>\n",
       "      <td>46</td>\n",
       "      <td>КОМБИНАТ ПИТАНИЯ МГТУ ИМ.Н.Э.БАУМАНА</td>\n",
       "      <td>город Москва, 2-я Бауманская улица, дом 5, строение 1</td>\n",
       "      <td>11</td>\n",
       "    </tr>\n",
       "    <tr>\n",
       "      <td>54</td>\n",
       "      <td>Кафе</td>\n",
       "      <td>город Москва, 1-я Останкинская улица, дом 55</td>\n",
       "      <td>9</td>\n",
       "    </tr>\n",
       "    <tr>\n",
       "      <td>89</td>\n",
       "      <td>Лиор</td>\n",
       "      <td>город Москва, Шарикоподшипниковская улица, дом 13, строение 3</td>\n",
       "      <td>8</td>\n",
       "    </tr>\n",
       "    <tr>\n",
       "      <td>64</td>\n",
       "      <td>Кафе</td>\n",
       "      <td>город Москва, Тихорецкий бульвар, владение 1, строение 1</td>\n",
       "      <td>6</td>\n",
       "    </tr>\n",
       "    <tr>\n",
       "      <td>7</td>\n",
       "      <td>LIFT</td>\n",
       "      <td>город Москва, Багратионовский проезд, дом 7, корпус 1</td>\n",
       "      <td>6</td>\n",
       "    </tr>\n",
       "  </tbody>\n",
       "</table>\n",
       "</div>"
      ],
      "text/plain": [
       "                                    name  \\\n",
       "46  КОМБИНАТ ПИТАНИЯ МГТУ ИМ.Н.Э.БАУМАНА   \n",
       "54                                  Кафе   \n",
       "89                                  Лиор   \n",
       "64                                  Кафе   \n",
       "7                                   LIFT   \n",
       "\n",
       "                                                          address  id  \n",
       "46          город Москва, 2-я Бауманская улица, дом 5, строение 1  11  \n",
       "54                   город Москва, 1-я Останкинская улица, дом 55   9  \n",
       "89  город Москва, Шарикоподшипниковская улица, дом 13, строение 3   8  \n",
       "64       город Москва, Тихорецкий бульвар, владение 1, строение 1   6  \n",
       "7           город Москва, Багратионовский проезд, дом 7, корпус 1   6  "
      ]
     },
     "execution_count": 6,
     "metadata": {},
     "output_type": "execute_result"
    }
   ],
   "source": [
    "pd.set_option('max_colwidth', 100)\n",
    "df[df.duplicated(['name', 'address'], keep = False) == True]\\\n",
    "    .groupby(['name', 'address'], as_index = False)['id'].count().sort_values(by='id', ascending = False).head()"
   ]
  },
  {
   "cell_type": "code",
   "execution_count": 7,
   "metadata": {},
   "outputs": [
    {
     "data": {
      "text/html": [
       "<div>\n",
       "<style scoped>\n",
       "    .dataframe tbody tr th:only-of-type {\n",
       "        vertical-align: middle;\n",
       "    }\n",
       "\n",
       "    .dataframe tbody tr th {\n",
       "        vertical-align: top;\n",
       "    }\n",
       "\n",
       "    .dataframe thead th {\n",
       "        text-align: right;\n",
       "    }\n",
       "</style>\n",
       "<table border=\"1\" class=\"dataframe\">\n",
       "  <thead>\n",
       "    <tr style=\"text-align: right;\">\n",
       "      <th></th>\n",
       "      <th>name</th>\n",
       "      <th>address</th>\n",
       "      <th>id</th>\n",
       "    </tr>\n",
       "  </thead>\n",
       "  <tbody>\n",
       "    <tr>\n",
       "      <td>46</td>\n",
       "      <td>КОМБИНАТ ПИТАНИЯ МГТУ ИМ.Н.Э.БАУМАНА</td>\n",
       "      <td>город Москва, 2-я Бауманская улица, дом 5, строение 1</td>\n",
       "      <td>11</td>\n",
       "    </tr>\n",
       "    <tr>\n",
       "      <td>54</td>\n",
       "      <td>Кафе</td>\n",
       "      <td>город Москва, 1-я Останкинская улица, дом 55</td>\n",
       "      <td>9</td>\n",
       "    </tr>\n",
       "    <tr>\n",
       "      <td>89</td>\n",
       "      <td>Лиор</td>\n",
       "      <td>город Москва, Шарикоподшипниковская улица, дом 13, строение 3</td>\n",
       "      <td>8</td>\n",
       "    </tr>\n",
       "    <tr>\n",
       "      <td>64</td>\n",
       "      <td>Кафе</td>\n",
       "      <td>город Москва, Тихорецкий бульвар, владение 1, строение 1</td>\n",
       "      <td>6</td>\n",
       "    </tr>\n",
       "    <tr>\n",
       "      <td>7</td>\n",
       "      <td>LIFT</td>\n",
       "      <td>город Москва, Багратионовский проезд, дом 7, корпус 1</td>\n",
       "      <td>6</td>\n",
       "    </tr>\n",
       "  </tbody>\n",
       "</table>\n",
       "</div>"
      ],
      "text/plain": [
       "                                    name  \\\n",
       "46  КОМБИНАТ ПИТАНИЯ МГТУ ИМ.Н.Э.БАУМАНА   \n",
       "54                                  Кафе   \n",
       "89                                  Лиор   \n",
       "64                                  Кафе   \n",
       "7                                   LIFT   \n",
       "\n",
       "                                                          address  id  \n",
       "46          город Москва, 2-я Бауманская улица, дом 5, строение 1  11  \n",
       "54                   город Москва, 1-я Останкинская улица, дом 55   9  \n",
       "89  город Москва, Шарикоподшипниковская улица, дом 13, строение 3   8  \n",
       "64       город Москва, Тихорецкий бульвар, владение 1, строение 1   6  \n",
       "7           город Москва, Багратионовский проезд, дом 7, корпус 1   6  "
      ]
     },
     "execution_count": 7,
     "metadata": {},
     "output_type": "execute_result"
    }
   ],
   "source": [
    "df[df.duplicated(['name', 'address'], keep = False) == True].groupby(['name', 'address'], as_index = False)['id']\\\n",
    ".count().sort_values(by='id', ascending = False).head()"
   ]
  },
  {
   "cell_type": "code",
   "execution_count": 8,
   "metadata": {},
   "outputs": [
    {
     "data": {
      "text/html": [
       "<div>\n",
       "<style scoped>\n",
       "    .dataframe tbody tr th:only-of-type {\n",
       "        vertical-align: middle;\n",
       "    }\n",
       "\n",
       "    .dataframe tbody tr th {\n",
       "        vertical-align: top;\n",
       "    }\n",
       "\n",
       "    .dataframe thead th {\n",
       "        text-align: right;\n",
       "    }\n",
       "</style>\n",
       "<table border=\"1\" class=\"dataframe\">\n",
       "  <thead>\n",
       "    <tr style=\"text-align: right;\">\n",
       "      <th></th>\n",
       "      <th>id</th>\n",
       "      <th>name</th>\n",
       "      <th>chain</th>\n",
       "      <th>type</th>\n",
       "      <th>address</th>\n",
       "      <th>seats</th>\n",
       "    </tr>\n",
       "  </thead>\n",
       "  <tbody>\n",
       "    <tr>\n",
       "      <td>2374</td>\n",
       "      <td>28603</td>\n",
       "      <td>КОМБИНАТ ПИТАНИЯ МГТУ ИМ.Н.Э.БАУМАНА</td>\n",
       "      <td>нет</td>\n",
       "      <td>столовая</td>\n",
       "      <td>город Москва, 2-я Бауманская улица, дом 5, строение 1</td>\n",
       "      <td>100</td>\n",
       "    </tr>\n",
       "    <tr>\n",
       "      <td>2375</td>\n",
       "      <td>28604</td>\n",
       "      <td>КОМБИНАТ ПИТАНИЯ МГТУ ИМ.Н.Э.БАУМАНА</td>\n",
       "      <td>нет</td>\n",
       "      <td>столовая</td>\n",
       "      <td>город Москва, 2-я Бауманская улица, дом 5, строение 1</td>\n",
       "      <td>150</td>\n",
       "    </tr>\n",
       "    <tr>\n",
       "      <td>2376</td>\n",
       "      <td>28605</td>\n",
       "      <td>КОМБИНАТ ПИТАНИЯ МГТУ ИМ.Н.Э.БАУМАНА</td>\n",
       "      <td>нет</td>\n",
       "      <td>кафетерий</td>\n",
       "      <td>город Москва, 2-я Бауманская улица, дом 5, строение 1</td>\n",
       "      <td>35</td>\n",
       "    </tr>\n",
       "    <tr>\n",
       "      <td>2377</td>\n",
       "      <td>28606</td>\n",
       "      <td>КОМБИНАТ ПИТАНИЯ МГТУ ИМ.Н.Э.БАУМАНА</td>\n",
       "      <td>нет</td>\n",
       "      <td>буфет</td>\n",
       "      <td>город Москва, 2-я Бауманская улица, дом 5, строение 1</td>\n",
       "      <td>16</td>\n",
       "    </tr>\n",
       "    <tr>\n",
       "      <td>2378</td>\n",
       "      <td>28607</td>\n",
       "      <td>КОМБИНАТ ПИТАНИЯ МГТУ ИМ.Н.Э.БАУМАНА</td>\n",
       "      <td>нет</td>\n",
       "      <td>закусочная</td>\n",
       "      <td>город Москва, 2-я Бауманская улица, дом 5, строение 1</td>\n",
       "      <td>16</td>\n",
       "    </tr>\n",
       "    <tr>\n",
       "      <td>2379</td>\n",
       "      <td>28609</td>\n",
       "      <td>КОМБИНАТ ПИТАНИЯ МГТУ ИМ.Н.Э.БАУМАНА</td>\n",
       "      <td>нет</td>\n",
       "      <td>буфет</td>\n",
       "      <td>город Москва, 2-я Бауманская улица, дом 5, строение 1</td>\n",
       "      <td>30</td>\n",
       "    </tr>\n",
       "    <tr>\n",
       "      <td>2380</td>\n",
       "      <td>28610</td>\n",
       "      <td>КОМБИНАТ ПИТАНИЯ МГТУ ИМ.Н.Э.БАУМАНА</td>\n",
       "      <td>нет</td>\n",
       "      <td>столовая</td>\n",
       "      <td>город Москва, 2-я Бауманская улица, дом 5, строение 1</td>\n",
       "      <td>200</td>\n",
       "    </tr>\n",
       "    <tr>\n",
       "      <td>2381</td>\n",
       "      <td>28611</td>\n",
       "      <td>КОМБИНАТ ПИТАНИЯ МГТУ ИМ.Н.Э.БАУМАНА</td>\n",
       "      <td>нет</td>\n",
       "      <td>столовая</td>\n",
       "      <td>город Москва, 2-я Бауманская улица, дом 5, строение 1</td>\n",
       "      <td>100</td>\n",
       "    </tr>\n",
       "    <tr>\n",
       "      <td>2382</td>\n",
       "      <td>28615</td>\n",
       "      <td>КОМБИНАТ ПИТАНИЯ МГТУ ИМ.Н.Э.БАУМАНА</td>\n",
       "      <td>нет</td>\n",
       "      <td>столовая</td>\n",
       "      <td>город Москва, 2-я Бауманская улица, дом 5, строение 1</td>\n",
       "      <td>168</td>\n",
       "    </tr>\n",
       "    <tr>\n",
       "      <td>2383</td>\n",
       "      <td>28616</td>\n",
       "      <td>КОМБИНАТ ПИТАНИЯ МГТУ ИМ.Н.Э.БАУМАНА</td>\n",
       "      <td>нет</td>\n",
       "      <td>закусочная</td>\n",
       "      <td>город Москва, 2-я Бауманская улица, дом 5, строение 1</td>\n",
       "      <td>64</td>\n",
       "    </tr>\n",
       "    <tr>\n",
       "      <td>2384</td>\n",
       "      <td>28617</td>\n",
       "      <td>КОМБИНАТ ПИТАНИЯ МГТУ ИМ.Н.Э.БАУМАНА</td>\n",
       "      <td>нет</td>\n",
       "      <td>столовая</td>\n",
       "      <td>город Москва, 2-я Бауманская улица, дом 5, строение 1</td>\n",
       "      <td>108</td>\n",
       "    </tr>\n",
       "  </tbody>\n",
       "</table>\n",
       "</div>"
      ],
      "text/plain": [
       "         id                                  name chain        type  \\\n",
       "2374  28603  КОМБИНАТ ПИТАНИЯ МГТУ ИМ.Н.Э.БАУМАНА   нет    столовая   \n",
       "2375  28604  КОМБИНАТ ПИТАНИЯ МГТУ ИМ.Н.Э.БАУМАНА   нет    столовая   \n",
       "2376  28605  КОМБИНАТ ПИТАНИЯ МГТУ ИМ.Н.Э.БАУМАНА   нет   кафетерий   \n",
       "2377  28606  КОМБИНАТ ПИТАНИЯ МГТУ ИМ.Н.Э.БАУМАНА   нет       буфет   \n",
       "2378  28607  КОМБИНАТ ПИТАНИЯ МГТУ ИМ.Н.Э.БАУМАНА   нет  закусочная   \n",
       "2379  28609  КОМБИНАТ ПИТАНИЯ МГТУ ИМ.Н.Э.БАУМАНА   нет       буфет   \n",
       "2380  28610  КОМБИНАТ ПИТАНИЯ МГТУ ИМ.Н.Э.БАУМАНА   нет    столовая   \n",
       "2381  28611  КОМБИНАТ ПИТАНИЯ МГТУ ИМ.Н.Э.БАУМАНА   нет    столовая   \n",
       "2382  28615  КОМБИНАТ ПИТАНИЯ МГТУ ИМ.Н.Э.БАУМАНА   нет    столовая   \n",
       "2383  28616  КОМБИНАТ ПИТАНИЯ МГТУ ИМ.Н.Э.БАУМАНА   нет  закусочная   \n",
       "2384  28617  КОМБИНАТ ПИТАНИЯ МГТУ ИМ.Н.Э.БАУМАНА   нет    столовая   \n",
       "\n",
       "                                                    address  seats  \n",
       "2374  город Москва, 2-я Бауманская улица, дом 5, строение 1    100  \n",
       "2375  город Москва, 2-я Бауманская улица, дом 5, строение 1    150  \n",
       "2376  город Москва, 2-я Бауманская улица, дом 5, строение 1     35  \n",
       "2377  город Москва, 2-я Бауманская улица, дом 5, строение 1     16  \n",
       "2378  город Москва, 2-я Бауманская улица, дом 5, строение 1     16  \n",
       "2379  город Москва, 2-я Бауманская улица, дом 5, строение 1     30  \n",
       "2380  город Москва, 2-я Бауманская улица, дом 5, строение 1    200  \n",
       "2381  город Москва, 2-я Бауманская улица, дом 5, строение 1    100  \n",
       "2382  город Москва, 2-я Бауманская улица, дом 5, строение 1    168  \n",
       "2383  город Москва, 2-я Бауманская улица, дом 5, строение 1     64  \n",
       "2384  город Москва, 2-я Бауманская улица, дом 5, строение 1    108  "
      ]
     },
     "execution_count": 8,
     "metadata": {},
     "output_type": "execute_result"
    }
   ],
   "source": [
    "df[df['address'] == 'город Москва, 2-я Бауманская улица, дом 5, строение 1']"
   ]
  },
  {
   "cell_type": "markdown",
   "metadata": {},
   "source": [
    "Вывод: в популяции из 15366 значений есть 344, для которых дублируются название и адрес. На примере комбината питания Бауманки видно, что это явно одно заведение, но с разными типами и количеством мест. Учитывая количество дубликатов, можно просто удалить их, оставив в популяции первые строки:"
   ]
  },
  {
   "cell_type": "code",
   "execution_count": 9,
   "metadata": {},
   "outputs": [],
   "source": [
    "df = df.drop_duplicates(subset = ['name', 'address']).reset_index(drop=True)"
   ]
  },
  {
   "cell_type": "markdown",
   "metadata": {},
   "source": [
    "**Проверяю значения отдельных столбцов:**  "
   ]
  },
  {
   "cell_type": "code",
   "execution_count": 10,
   "metadata": {},
   "outputs": [
    {
     "name": "stdout",
     "output_type": "stream",
     "text": [
      "['нет' 'да']\n",
      "['кафе' 'столовая' 'закусочная' 'предприятие быстрого обслуживания'\n",
      " 'ресторан' 'кафетерий' 'буфет' 'бар' 'магазин (отдел кулинарии)']\n"
     ]
    }
   ],
   "source": [
    "for column in ['chain', 'type']:\n",
    "    print(df[column].unique())"
   ]
  },
  {
   "cell_type": "markdown",
   "metadata": {},
   "source": [
    "Для краткости переименовываю некоторые виды заведений:"
   ]
  },
  {
   "cell_type": "code",
   "execution_count": 11,
   "metadata": {},
   "outputs": [],
   "source": [
    "df['type'] = df['type'].replace('предприятие быстрого обслуживания', 'фастфуд')\n",
    "df['type'] = df['type'].replace('магазин (отдел кулинарии)', 'кулинария')"
   ]
  },
  {
   "cell_type": "code",
   "execution_count": 12,
   "metadata": {},
   "outputs": [
    {
     "data": {
      "text/plain": [
       "<matplotlib.axes._subplots.AxesSubplot at 0x7fe2cfe77550>"
      ]
     },
     "execution_count": 12,
     "metadata": {},
     "output_type": "execute_result"
    },
    {
     "data": {
      "image/png": "[encoded data removed]",
      "text/plain": [
       "<Figure size 432x288 with 1 Axes>"
      ]
     },
     "metadata": {
      "needs_background": "light"
     },
     "output_type": "display_data"
    }
   ],
   "source": [
    "df['seats'].hist(bins = 50)"
   ]
  },
  {
   "cell_type": "code",
   "execution_count": 13,
   "metadata": {},
   "outputs": [
    {
     "data": {
      "text/plain": [
       "24"
      ]
     },
     "execution_count": 13,
     "metadata": {},
     "output_type": "execute_result"
    }
   ],
   "source": [
    "len(df[df['seats'] > 500])"
   ]
  },
  {
   "cell_type": "code",
   "execution_count": 14,
   "metadata": {},
   "outputs": [
    {
     "data": {
      "text/html": [
       "<div>\n",
       "<style scoped>\n",
       "    .dataframe tbody tr th:only-of-type {\n",
       "        vertical-align: middle;\n",
       "    }\n",
       "\n",
       "    .dataframe tbody tr th {\n",
       "        vertical-align: top;\n",
       "    }\n",
       "\n",
       "    .dataframe thead th {\n",
       "        text-align: right;\n",
       "    }\n",
       "</style>\n",
       "<table border=\"1\" class=\"dataframe\">\n",
       "  <thead>\n",
       "    <tr style=\"text-align: right;\">\n",
       "      <th></th>\n",
       "      <th>id</th>\n",
       "      <th>name</th>\n",
       "      <th>chain</th>\n",
       "      <th>type</th>\n",
       "      <th>address</th>\n",
       "      <th>seats</th>\n",
       "    </tr>\n",
       "  </thead>\n",
       "  <tbody>\n",
       "    <tr>\n",
       "      <td>12595</td>\n",
       "      <td>199696</td>\n",
       "      <td>Arena by Soho Family</td>\n",
       "      <td>нет</td>\n",
       "      <td>бар</td>\n",
       "      <td>город Москва, Кутузовский проспект, дом 36, строение 11</td>\n",
       "      <td>1700</td>\n",
       "    </tr>\n",
       "    <tr>\n",
       "      <td>8062</td>\n",
       "      <td>80291</td>\n",
       "      <td>Банкетный зал Шелк</td>\n",
       "      <td>нет</td>\n",
       "      <td>ресторан</td>\n",
       "      <td>город Москва, Большой Саввинский переулок, дом 12, строение 10Г</td>\n",
       "      <td>1500</td>\n",
       "    </tr>\n",
       "    <tr>\n",
       "      <td>8259</td>\n",
       "      <td>27750</td>\n",
       "      <td>СТОЛОВАЯ-БУФЕТ</td>\n",
       "      <td>нет</td>\n",
       "      <td>столовая</td>\n",
       "      <td>город Москва, улица Волхонка, дом 15</td>\n",
       "      <td>1400</td>\n",
       "    </tr>\n",
       "    <tr>\n",
       "      <td>8973</td>\n",
       "      <td>19719</td>\n",
       "      <td>КОМБИНАТ ПИТАНИЯ «УПРАВЛЕНИЕ АКАДЕМСЕРВИС»</td>\n",
       "      <td>нет</td>\n",
       "      <td>столовая</td>\n",
       "      <td>город Москва, проспект Вернадского, дом 84, строение 1</td>\n",
       "      <td>1288</td>\n",
       "    </tr>\n",
       "    <tr>\n",
       "      <td>4451</td>\n",
       "      <td>27024</td>\n",
       "      <td>РУМ СЕРВИС</td>\n",
       "      <td>нет</td>\n",
       "      <td>ресторан</td>\n",
       "      <td>город Москва, Кутузовский проспект, дом 2/1, строение 1</td>\n",
       "      <td>1200</td>\n",
       "    </tr>\n",
       "  </tbody>\n",
       "</table>\n",
       "</div>"
      ],
      "text/plain": [
       "           id                                        name chain      type  \\\n",
       "12595  199696                        Arena by Soho Family   нет       бар   \n",
       "8062    80291                          Банкетный зал Шелк   нет  ресторан   \n",
       "8259    27750                              СТОЛОВАЯ-БУФЕТ   нет  столовая   \n",
       "8973    19719  КОМБИНАТ ПИТАНИЯ «УПРАВЛЕНИЕ АКАДЕМСЕРВИС»   нет  столовая   \n",
       "4451    27024                                  РУМ СЕРВИС   нет  ресторан   \n",
       "\n",
       "                                                               address  seats  \n",
       "12595          город Москва, Кутузовский проспект, дом 36, строение 11   1700  \n",
       "8062   город Москва, Большой Саввинский переулок, дом 12, строение 10Г   1500  \n",
       "8259                              город Москва, улица Волхонка, дом 15   1400  \n",
       "8973            город Москва, проспект Вернадского, дом 84, строение 1   1288  \n",
       "4451           город Москва, Кутузовский проспект, дом 2/1, строение 1   1200  "
      ]
     },
     "execution_count": 14,
     "metadata": {},
     "output_type": "execute_result"
    }
   ],
   "source": [
    "df.sort_values(by = 'seats', ascending = False).head()"
   ]
  },
  {
   "cell_type": "markdown",
   "metadata": {},
   "source": [
    "Высокие значения выглядят реалистичными. Arena by Soho Family - это бар, расположенный на стадионе, то есть здесь указано не количество посадочных мест, а количество посетителей. Данные некорректны, но не из-за источника собранных данных, а из-за неправильной интерпретации. Для анализа ресторанов по количеству мест нужно будет использовать очищенные данные, держа во внимании возможные неправильные интерпретации этого показателя, но исключать эти данные не нужно.  "
   ]
  },
  {
   "cell_type": "markdown",
   "metadata": {},
   "source": [
    "### Обработка названий  <a id=\"1_4\"></a>  \n",
    "Названия сетей могут иметь разный формат. Для анализа необходимо унифицировать их:"
   ]
  },
  {
   "cell_type": "code",
   "execution_count": 15,
   "metadata": {},
   "outputs": [],
   "source": [
    "df['name'] = df['name'].str.lower()\n",
    "for i in ['»', '«', '.']:\n",
    "    df['name'] = df['name'].str.replace(i, '')\n",
    "df['name'] = df['name'].str.replace('ё', 'е')"
   ]
  },
  {
   "cell_type": "markdown",
   "metadata": {},
   "source": [
    "Далее я провожу лемматизацию и выделяю наиболее популярные названия:"
   ]
  },
  {
   "cell_type": "code",
   "execution_count": 16,
   "metadata": {},
   "outputs": [],
   "source": [
    "words = (df['name'].str.cat(sep=' ').split())\n",
    "lemmas = pd.Series(Counter(words), name='lemmas').sort_values(ascending = False)"
   ]
  },
  {
   "cell_type": "code",
   "execution_count": 17,
   "metadata": {},
   "outputs": [
    {
     "data": {
      "text/plain": [
       "кафе           1658\n",
       "столовая       1562\n",
       "школа           653\n",
       "ресторан        593\n",
       "при             592\n",
       "№               513\n",
       "гбоу            455\n",
       "пицца           365\n",
       "бар             314\n",
       "шаурма          308\n",
       "буфет           286\n",
       "суши            252\n",
       "кофе            232\n",
       "пекарня         212\n",
       "и               195\n",
       "бургер          195\n",
       "шоколадница     186\n",
       "kfc             186\n",
       "макдоналдс      168\n",
       "кинг            166\n",
       "Name: lemmas, dtype: int64"
      ]
     },
     "execution_count": 17,
     "metadata": {},
     "output_type": "execute_result"
    }
   ],
   "source": [
    "lemmas[:20]"
   ]
  },
  {
   "cell_type": "markdown",
   "metadata": {},
   "source": [
    "Проверяю, все ли Шоколадницы названы одинаково:"
   ]
  },
  {
   "cell_type": "code",
   "execution_count": 18,
   "metadata": {},
   "outputs": [
    {
     "data": {
      "text/html": [
       "<div>\n",
       "<style scoped>\n",
       "    .dataframe tbody tr th:only-of-type {\n",
       "        vertical-align: middle;\n",
       "    }\n",
       "\n",
       "    .dataframe tbody tr th {\n",
       "        vertical-align: top;\n",
       "    }\n",
       "\n",
       "    .dataframe thead th {\n",
       "        text-align: right;\n",
       "    }\n",
       "</style>\n",
       "<table border=\"1\" class=\"dataframe\">\n",
       "  <thead>\n",
       "    <tr style=\"text-align: right;\">\n",
       "      <th></th>\n",
       "      <th>id</th>\n",
       "      <th>name</th>\n",
       "      <th>chain</th>\n",
       "      <th>type</th>\n",
       "      <th>address</th>\n",
       "      <th>seats</th>\n",
       "    </tr>\n",
       "  </thead>\n",
       "  <tbody>\n",
       "    <tr>\n",
       "      <td>271</td>\n",
       "      <td>25141</td>\n",
       "      <td>шоколадница кофе хаус</td>\n",
       "      <td>да</td>\n",
       "      <td>кафе</td>\n",
       "      <td>город Москва, Тверская улица, дом 17</td>\n",
       "      <td>60</td>\n",
       "    </tr>\n",
       "    <tr>\n",
       "      <td>586</td>\n",
       "      <td>134332</td>\n",
       "      <td>кофейня шоколадница</td>\n",
       "      <td>да</td>\n",
       "      <td>кафе</td>\n",
       "      <td>город Москва, Ленинский проспект, дом 37А</td>\n",
       "      <td>43</td>\n",
       "    </tr>\n",
       "    <tr>\n",
       "      <td>882</td>\n",
       "      <td>21774</td>\n",
       "      <td>кафе шоколадница</td>\n",
       "      <td>да</td>\n",
       "      <td>кафе</td>\n",
       "      <td>город Москва, улица Шаболовка, дом 30/12</td>\n",
       "      <td>48</td>\n",
       "    </tr>\n",
       "    <tr>\n",
       "      <td>1731</td>\n",
       "      <td>69008</td>\n",
       "      <td>кафе шоколадница</td>\n",
       "      <td>нет</td>\n",
       "      <td>кафе</td>\n",
       "      <td>город Москва, Ломоносовский проспект, дом 25, корпус 1</td>\n",
       "      <td>50</td>\n",
       "    </tr>\n",
       "    <tr>\n",
       "      <td>1818</td>\n",
       "      <td>24304</td>\n",
       "      <td>кафе шоколадница</td>\n",
       "      <td>да</td>\n",
       "      <td>кафе</td>\n",
       "      <td>город Москва, улица Большие Каменщики, дом 2</td>\n",
       "      <td>67</td>\n",
       "    </tr>\n",
       "  </tbody>\n",
       "</table>\n",
       "</div>"
      ],
      "text/plain": [
       "          id                   name chain  type  \\\n",
       "271    25141  шоколадница кофе хаус    да  кафе   \n",
       "586   134332    кофейня шоколадница    да  кафе   \n",
       "882    21774       кафе шоколадница    да  кафе   \n",
       "1731   69008       кафе шоколадница   нет  кафе   \n",
       "1818   24304       кафе шоколадница    да  кафе   \n",
       "\n",
       "                                                     address  seats  \n",
       "271                     город Москва, Тверская улица, дом 17     60  \n",
       "586                город Москва, Ленинский проспект, дом 37А     43  \n",
       "882                 город Москва, улица Шаболовка, дом 30/12     48  \n",
       "1731  город Москва, Ломоносовский проспект, дом 25, корпус 1     50  \n",
       "1818            город Москва, улица Большие Каменщики, дом 2     67  "
      ]
     },
     "execution_count": 18,
     "metadata": {},
     "output_type": "execute_result"
    }
   ],
   "source": [
    "df[np.logical_and(\n",
    "        df['name']!='шоколадница',\n",
    "        df['name'].str.contains('шоколадница'))].head()"
   ]
  },
  {
   "cell_type": "markdown",
   "metadata": {},
   "source": [
    "Как видно, чтобы корректно отслеживать сетевые заведения, нужно привести их названия к названию сети. Для этого пишу функции, которые убирают общие названия (кафе, столовая, ресторан) из названия, и переименовывает сети:"
   ]
  },
  {
   "cell_type": "code",
   "execution_count": 19,
   "metadata": {},
   "outputs": [],
   "source": [
    "def names_normaliser(name):\n",
    "\n",
    "    for i in ['кафе', 'столовая', 'ресторан']:\n",
    "        if i == name:\n",
    "            return name\n",
    "        else: \n",
    "            new_name = name.replace(i, '')\n",
    "            return new_name\n",
    "\n",
    "def chains_normaliser(name):\n",
    "        \n",
    "    for chain_name in ['шоколадница', 'бургер кинг', 'макдоналдс', 'kfc', 'теремок', 'домино', 'крошка картошка',\n",
    "                      'subway', 'starbucks', 'му-му', 'cofix', 'кулинарная лавка братьев караваевых', 'якитория', \n",
    "                       'мята lounge', 'coffeeshop', 'буше', 'прайм стар', 'иль патио', 'маки-маки', 'ваби-саби', \n",
    "                       'ванвок', 'costa coffee', 'штолле', 'папа джонс', 'икеа', 'суши wok', 'гудман']:\n",
    "        if chain_name in name:\n",
    "            name = chain_name\n",
    "    return name"
   ]
  },
  {
   "cell_type": "code",
   "execution_count": 20,
   "metadata": {},
   "outputs": [
    {
     "name": "stdout",
     "output_type": "stream",
     "text": [
      "308\n",
      "234\n"
     ]
    }
   ],
   "source": [
    "print(len(df[df['chain'] == 'да'].groupby('name', as_index = False)['id'].count().query('id == 1')))\n",
    "df['name'] = df['name'].apply(names_normaliser)\n",
    "df['name'] = df['name'].apply(chains_normaliser)\n",
    "print(len(df[df['chain'] == 'да'].groupby('name', as_index = False)['id'].count().query('id == 1')))"
   ]
  },
  {
   "cell_type": "markdown",
   "metadata": {},
   "source": [
    "В результате применения функции количество заведений, которые отмечены как сетевые, но с уникальным названием, сократилось на треть. Все названия максимально унифицированы. "
   ]
  },
  {
   "cell_type": "markdown",
   "metadata": {},
   "source": [
    " \n",
    "### Обработка адресов  <a id=\"1_5\"></a>  \n",
    "Чтобы обрабатывать адреса, нужно привести их к одном формату. Для начала удаляю \"город Москва\" из названия, так как все завадения и так по умолчанию в Москве:"
   ]
  },
  {
   "cell_type": "code",
   "execution_count": 21,
   "metadata": {},
   "outputs": [],
   "source": [
    "df['address'] = df['address'].str.replace('город Москва, ', '')"
   ]
  },
  {
   "cell_type": "markdown",
   "metadata": {},
   "source": [
    "Далее я добавляю отдельный столбец с городом. По умолчанию он равен Москве, кроме других городов."
   ]
  },
  {
   "cell_type": "code",
   "execution_count": 22,
   "metadata": {},
   "outputs": [],
   "source": [
    "def city(address):\n",
    "    if 'Зеленоград' in address:\n",
    "        address = 'Зеленоград'\n",
    "    elif 'Московский' in address:\n",
    "        address = 'Московский'\n",
    "    elif 'Щербинка' in address:\n",
    "        address = 'Щербинка'\n",
    "    elif 'Троицк' in address:\n",
    "        address = 'Троицк'\n",
    "    else: address = 'Москва'\n",
    "    return address"
   ]
  },
  {
   "cell_type": "code",
   "execution_count": 23,
   "metadata": {},
   "outputs": [],
   "source": [
    "df['city'] = df['address'].apply(city)"
   ]
  },
  {
   "cell_type": "code",
   "execution_count": 24,
   "metadata": {},
   "outputs": [
    {
     "data": {
      "text/plain": [
       "city\n",
       "Зеленоград      232\n",
       "Москва        14681\n",
       "Московский      134\n",
       "Троицк           65\n",
       "Щербинка         47\n",
       "Name: id, dtype: int64"
      ]
     },
     "execution_count": 24,
     "metadata": {},
     "output_type": "execute_result"
    }
   ],
   "source": [
    "df.groupby('city')['id'].count()"
   ]
  },
  {
   "cell_type": "code",
   "execution_count": 25,
   "metadata": {},
   "outputs": [],
   "source": [
    "for i in ['город Зеленоград, ', 'город Московский, ', 'город Щербинка, ', 'город Троицк, ','город Москва, ']:\n",
    "    df['address'] = df['address'].str.replace(i, '')"
   ]
  },
  {
   "cell_type": "code",
   "execution_count": 26,
   "metadata": {},
   "outputs": [
    {
     "data": {
      "text/html": [
       "<div>\n",
       "<style scoped>\n",
       "    .dataframe tbody tr th:only-of-type {\n",
       "        vertical-align: middle;\n",
       "    }\n",
       "\n",
       "    .dataframe tbody tr th {\n",
       "        vertical-align: top;\n",
       "    }\n",
       "\n",
       "    .dataframe thead th {\n",
       "        text-align: right;\n",
       "    }\n",
       "</style>\n",
       "<table border=\"1\" class=\"dataframe\">\n",
       "  <thead>\n",
       "    <tr style=\"text-align: right;\">\n",
       "      <th></th>\n",
       "      <th>id</th>\n",
       "      <th>name</th>\n",
       "      <th>chain</th>\n",
       "      <th>type</th>\n",
       "      <th>address</th>\n",
       "      <th>seats</th>\n",
       "      <th>city</th>\n",
       "    </tr>\n",
       "  </thead>\n",
       "  <tbody>\n",
       "    <tr>\n",
       "      <td>0</td>\n",
       "      <td>151635</td>\n",
       "      <td>сметана</td>\n",
       "      <td>нет</td>\n",
       "      <td>кафе</td>\n",
       "      <td>улица Егора Абакумова, дом 9</td>\n",
       "      <td>48</td>\n",
       "      <td>Москва</td>\n",
       "    </tr>\n",
       "    <tr>\n",
       "      <td>1</td>\n",
       "      <td>77874</td>\n",
       "      <td>родник</td>\n",
       "      <td>нет</td>\n",
       "      <td>кафе</td>\n",
       "      <td>улица Талалихина, дом 2/1, корпус 1</td>\n",
       "      <td>35</td>\n",
       "      <td>Москва</td>\n",
       "    </tr>\n",
       "  </tbody>\n",
       "</table>\n",
       "</div>"
      ],
      "text/plain": [
       "       id     name chain  type                              address  seats  \\\n",
       "0  151635  сметана   нет  кафе         улица Егора Абакумова, дом 9     48   \n",
       "1   77874   родник   нет  кафе  улица Талалихина, дом 2/1, корпус 1     35   \n",
       "\n",
       "     city  \n",
       "0  Москва  \n",
       "1  Москва  "
      ]
     },
     "execution_count": 26,
     "metadata": {},
     "output_type": "execute_result"
    }
   ],
   "source": [
    "df.head(2)"
   ]
  },
  {
   "cell_type": "markdown",
   "metadata": {},
   "source": [
    "Теперь в начале строки адреса до запятой, как правило, идет название улицы. Выделяю ее в отдельный столбец:"
   ]
  },
  {
   "cell_type": "code",
   "execution_count": 27,
   "metadata": {},
   "outputs": [
    {
     "data": {
      "text/html": [
       "<div>\n",
       "<style scoped>\n",
       "    .dataframe tbody tr th:only-of-type {\n",
       "        vertical-align: middle;\n",
       "    }\n",
       "\n",
       "    .dataframe tbody tr th {\n",
       "        vertical-align: top;\n",
       "    }\n",
       "\n",
       "    .dataframe thead th {\n",
       "        text-align: right;\n",
       "    }\n",
       "</style>\n",
       "<table border=\"1\" class=\"dataframe\">\n",
       "  <thead>\n",
       "    <tr style=\"text-align: right;\">\n",
       "      <th></th>\n",
       "      <th>id</th>\n",
       "      <th>name</th>\n",
       "      <th>chain</th>\n",
       "      <th>type</th>\n",
       "      <th>address</th>\n",
       "      <th>seats</th>\n",
       "      <th>city</th>\n",
       "      <th>street</th>\n",
       "    </tr>\n",
       "  </thead>\n",
       "  <tbody>\n",
       "    <tr>\n",
       "      <td>0</td>\n",
       "      <td>151635</td>\n",
       "      <td>сметана</td>\n",
       "      <td>нет</td>\n",
       "      <td>кафе</td>\n",
       "      <td>улица Егора Абакумова, дом 9</td>\n",
       "      <td>48</td>\n",
       "      <td>Москва</td>\n",
       "      <td>улица Егора Абакумова</td>\n",
       "    </tr>\n",
       "    <tr>\n",
       "      <td>1</td>\n",
       "      <td>77874</td>\n",
       "      <td>родник</td>\n",
       "      <td>нет</td>\n",
       "      <td>кафе</td>\n",
       "      <td>улица Талалихина, дом 2/1, корпус 1</td>\n",
       "      <td>35</td>\n",
       "      <td>Москва</td>\n",
       "      <td>улица Талалихина</td>\n",
       "    </tr>\n",
       "  </tbody>\n",
       "</table>\n",
       "</div>"
      ],
      "text/plain": [
       "       id     name chain  type                              address  seats  \\\n",
       "0  151635  сметана   нет  кафе         улица Егора Абакумова, дом 9     48   \n",
       "1   77874   родник   нет  кафе  улица Талалихина, дом 2/1, корпус 1     35   \n",
       "\n",
       "     city                 street  \n",
       "0  Москва  улица Егора Абакумова  \n",
       "1  Москва       улица Талалихина  "
      ]
     },
     "execution_count": 27,
     "metadata": {},
     "output_type": "execute_result"
    }
   ],
   "source": [
    "df['street'] = df['address'].str.split(',',expand=True)[0]\n",
    "df.head(2)"
   ]
  },
  {
   "cell_type": "markdown",
   "metadata": {},
   "source": [
    "Предобработка завершена."
   ]
  },
  {
   "cell_type": "markdown",
   "metadata": {},
   "source": [
    "## Шаг №2. Анализ данных  <a id=\"2\"></a>"
   ]
  },
  {
   "cell_type": "markdown",
   "metadata": {},
   "source": [
    "### Соотношение количества заведений по виду и сетевым / несетевым <a id=\"2_1\"></a>  "
   ]
  },
  {
   "cell_type": "code",
   "execution_count": 28,
   "metadata": {},
   "outputs": [
    {
     "data": {
      "text/plain": [
       "Text(0, 0.5, 'Количество заведений')"
      ]
     },
     "execution_count": 28,
     "metadata": {},
     "output_type": "execute_result"
    },
    {
     "data": {
      "image/png": "[encoded data removed]",
      "text/plain": [
       "<Figure size 1296x360 with 2 Axes>"
      ]
     },
     "metadata": {},
     "output_type": "display_data"
    }
   ],
   "source": [
    "sns.set_style('whitegrid')\n",
    "fig, axes = plt.subplots(nrows=1, ncols=2, figsize = (18,5), gridspec_kw={'width_ratios': [1, 3]})\n",
    "sns.barplot(x='chain', y='id', data=df.groupby('chain', as_index = False)['id'].count(), ax = axes[0], \n",
    "            palette =['indianred', 'rebeccapurple'])\n",
    "axes[0].set_xlabel('Сетевое заведение')\n",
    "axes[0].set_ylabel('Количество заведений')\n",
    "sns.barplot(x='type', y='id', data = df.groupby('type', as_index = False)['id'].count(), color='rebeccapurple', ax = axes[1])\n",
    "sns.barplot(x='type', y='id', data = df.groupby(['type', 'chain'], as_index = False)['id'].count().query('chain == \"да\"'), \n",
    "            color='indianred', ax = axes[1])\n",
    "axes[1].set_xlabel('Вид заведения')\n",
    "axes[1].set_ylabel('Количество заведений')"
   ]
  },
  {
   "cell_type": "markdown",
   "metadata": {},
   "source": [
    "Основные выводы:\n",
    "- 19% заведений - сетевые, 81% - несетевые\n",
    "- 6 тысяч заведений - кафе, примерно по 2 тысячи - столовые, рестораны и фастфуд, остальных - меньше 1 тысячи\n",
    "- соотношение сетевых и несетвых заведений для каждого вида можно посмотреть отдельно"
   ]
  },
  {
   "cell_type": "markdown",
   "metadata": {},
   "source": [
    "### Для какого вида объекта общественного питания характерно сетевое распространение? <a id=\"2_2\"></a>  "
   ]
  },
  {
   "cell_type": "code",
   "execution_count": 29,
   "metadata": {},
   "outputs": [],
   "source": [
    "bytypechain = df.pivot_table(index = 'type', columns = 'chain', values = 'id', aggfunc = 'count').reset_index()\n",
    "bytypechain = bytypechain.append(pd.DataFrame([['в среднем', bytypechain['да'].sum(), bytypechain['нет'].sum()]], \n",
    "                                              columns = ['type', 'да', 'нет']))\n",
    "bytypechain['%сетей'] = bytypechain['да'] / (bytypechain['да'] + bytypechain['нет']) \n",
    "bytypechain = bytypechain.sort_values(by = '%сетей', ascending = False).reset_index()\n",
    "bytypechain['100%'] = 1"
   ]
  },
  {
   "cell_type": "code",
   "execution_count": 30,
   "metadata": {},
   "outputs": [
    {
     "data": {
      "text/html": [
       "<div>\n",
       "<style scoped>\n",
       "    .dataframe tbody tr th:only-of-type {\n",
       "        vertical-align: middle;\n",
       "    }\n",
       "\n",
       "    .dataframe tbody tr th {\n",
       "        vertical-align: top;\n",
       "    }\n",
       "\n",
       "    .dataframe thead th {\n",
       "        text-align: right;\n",
       "    }\n",
       "</style>\n",
       "<table border=\"1\" class=\"dataframe\">\n",
       "  <thead>\n",
       "    <tr style=\"text-align: right;\">\n",
       "      <th>chain</th>\n",
       "      <th>index</th>\n",
       "      <th>type</th>\n",
       "      <th>да</th>\n",
       "      <th>нет</th>\n",
       "      <th>%сетей</th>\n",
       "      <th>100%</th>\n",
       "    </tr>\n",
       "  </thead>\n",
       "  <tbody>\n",
       "    <tr>\n",
       "      <td>0</td>\n",
       "      <td>8</td>\n",
       "      <td>фастфуд</td>\n",
       "      <td>782</td>\n",
       "      <td>1104</td>\n",
       "      <td>0.414634</td>\n",
       "      <td>1</td>\n",
       "    </tr>\n",
       "    <tr>\n",
       "      <td>1</td>\n",
       "      <td>5</td>\n",
       "      <td>кулинария</td>\n",
       "      <td>78</td>\n",
       "      <td>194</td>\n",
       "      <td>0.286765</td>\n",
       "      <td>1</td>\n",
       "    </tr>\n",
       "    <tr>\n",
       "      <td>2</td>\n",
       "      <td>6</td>\n",
       "      <td>ресторан</td>\n",
       "      <td>539</td>\n",
       "      <td>1733</td>\n",
       "      <td>0.237236</td>\n",
       "      <td>1</td>\n",
       "    </tr>\n",
       "    <tr>\n",
       "      <td>3</td>\n",
       "      <td>3</td>\n",
       "      <td>кафе</td>\n",
       "      <td>1384</td>\n",
       "      <td>4619</td>\n",
       "      <td>0.230551</td>\n",
       "      <td>1</td>\n",
       "    </tr>\n",
       "    <tr>\n",
       "      <td>4</td>\n",
       "      <td>0</td>\n",
       "      <td>в среднем</td>\n",
       "      <td>2940</td>\n",
       "      <td>12219</td>\n",
       "      <td>0.193944</td>\n",
       "      <td>1</td>\n",
       "    </tr>\n",
       "  </tbody>\n",
       "</table>\n",
       "</div>"
      ],
      "text/plain": [
       "chain  index       type    да    нет    %сетей  100%\n",
       "0          8    фастфуд   782   1104  0.414634     1\n",
       "1          5  кулинария    78    194  0.286765     1\n",
       "2          6   ресторан   539   1733  0.237236     1\n",
       "3          3       кафе  1384   4619  0.230551     1\n",
       "4          0  в среднем  2940  12219  0.193944     1"
      ]
     },
     "execution_count": 30,
     "metadata": {},
     "output_type": "execute_result"
    }
   ],
   "source": [
    "bytypechain.head()"
   ]
  },
  {
   "cell_type": "code",
   "execution_count": 31,
   "metadata": {},
   "outputs": [
    {
     "data": {
      "text/plain": [
       "<matplotlib.lines.Line2D at 0x7fe2cc98ae10>"
      ]
     },
     "execution_count": 31,
     "metadata": {},
     "output_type": "execute_result"
    },
    {
     "data": {
      "image/png": "[encoded data removed]",
      "text/plain": [
       "<Figure size 864x288 with 1 Axes>"
      ]
     },
     "metadata": {},
     "output_type": "display_data"
    }
   ],
   "source": [
    "plt.figure(figsize=(12, 4))\n",
    "ax = sns.barplot(x='type', y='100%', data = bytypechain, color='indianred')\n",
    "ax = sns.barplot(x='type', y='%сетей', data = bytypechain, color='rebeccapurple')\n",
    "ax.set_xlabel('Вид заведения')\n",
    "ax.set_ylabel('Доля сетевых заведений')\n",
    "ax.set_ylim(0,0.5)\n",
    "plt.axhline(y=bytypechain.loc[4, '%сетей'], color='black', linestyle='--')"
   ]
  },
  {
   "cell_type": "markdown",
   "metadata": {},
   "source": [
    "- в среднем доля сетевых заведений - 19%\n",
    "- наивысшая доля у фастфуда - больше 40%, чуть выше среднего - у кулинарий, ресторанов и кафе, ниже 19% у закусочных, кафетериев, баров, буфетов\n",
    "- сетевых столовых нет вообще "
   ]
  },
  {
   "cell_type": "markdown",
   "metadata": {},
   "source": [
    "### Что характерно для сетевых заведений?  <a id=\"2_3\"></a>  \n",
    "Много заведений с небольшим числом посадочных мест в каждом или мало заведений с большим количеством посадочных мест?"
   ]
  },
  {
   "cell_type": "code",
   "execution_count": 32,
   "metadata": {},
   "outputs": [
    {
     "data": {
      "text/plain": [
       "<matplotlib.lines.Line2D at 0x7fe2cc9f0dd0>"
      ]
     },
     "execution_count": 32,
     "metadata": {},
     "output_type": "execute_result"
    },
    {
     "data": {
      "image/png": "[encoded data removed]",
      "text/plain": [
       "<Figure size 1296x360 with 2 Axes>"
      ]
     },
     "metadata": {},
     "output_type": "display_data"
    }
   ],
   "source": [
    "namechain = df[df['chain'] == 'да'].groupby(['name', 'chain'], as_index = False).agg({'id':'count', 'seats':'sum'})\n",
    "namechain['seats_per_rest'] = namechain['seats'] / namechain['id']\n",
    "fig, axes = plt.subplots(nrows=1, ncols=2, figsize = (18,5))\n",
    "sns.scatterplot(x=\"seats_per_rest\", y=\"id\", hue = 'chain', alpha = 0.5, s = 100, data = namechain, ax = axes[1])\n",
    "axes[1].set_xlim(0,namechain['seats_per_rest'].quantile(0.9))\n",
    "axes[1].set_ylim(0,namechain['id'].quantile(0.9)+0.5)\n",
    "axes[1].set_xlabel('Количество посадочных мест в одном ресторане')\n",
    "axes[1].set_ylabel('Количество заведений в сети')\n",
    "\n",
    "sns.scatterplot(x=\"seats_per_rest\", y=\"id\", hue = 'chain', alpha = 0.5, s = 100, data = namechain, ax = axes[0])\n",
    "axes[0].set_xlabel('Количество посадочных мест в одном ресторане')\n",
    "axes[0].set_ylabel('Количество заведений в сети')\n",
    "plt.axhline(y=6.5, color='grey', linestyle='--')\n",
    "plt.axvline(x=41, color='grey', linestyle='--')"
   ]
  },
  {
   "cell_type": "markdown",
   "metadata": {},
   "source": [
    "Первый график - полный, второй - ограничен до 90 перцентиля по обоим показателям, чтобы учитывать только нормальные данные. По правом (нормализованному) графику можно сделать выводы:\n",
    "- Несмотря на приведение названий заведений к единому формату, большая часть сетевых заведений имеет только 1 заведение. Это может быть как из-за того, разные заведения названы по-разному, так и из-за неполных данных, или того, что другие заведения находятся в других регионах. Это нельзя считать ошибкой.\n",
    "- У большинства сетей 1-2 заведения и до 50 посадочных мест.\n",
    "- За редкими исключениями, второе и следующие заведения появляются при среднем количестве от 10 мест, то есть некоторые маленькие заведения увеличивают количество, но не размер. \n",
    "- Можно выделить две группы сетей с сумарным количеством мест от 200: первые - 6-10 заведений до 40 мест каждое, вторые - 40-120 мест в 1-6 заведении. Сетей, где было бы больше и 6 заведений, и 40 мест в каждом, очень мало.\n",
    "- То есть можно говорить о том, что заведения до 40 мест расширяют сеть, а большие (больше 40 мест) ограничиваются 1-3, реже - до 6, причем вторых больше.  \n",
    "На левом графике видно, что тенденция сохраняется: большие сети (>50 заведений) ограничены 50-60 местами (за одним исключением), а большие заведения не масштабируются.   \n",
    "В итоге, можно говорить о двух стратегиях, причем сетей с несколькими большими ресторанами гораздо больше, чем больших сетей с небольшими ресторанами. "
   ]
  },
  {
   "cell_type": "markdown",
   "metadata": {},
   "source": [
    "### Среднее количество посадочных мест для каждого вида объекта <a id=\"2_4\"></a>  \n",
    "Какой вид предоставляет в среднем самое большое количество посадочных мест?"
   ]
  },
  {
   "cell_type": "code",
   "execution_count": 33,
   "metadata": {},
   "outputs": [
    {
     "data": {
      "text/plain": [
       "Text(17.231250000000003, 0.5, 'Количество заведений')"
      ]
     },
     "execution_count": 33,
     "metadata": {},
     "output_type": "execute_result"
    },
    {
     "data": {
      "image/png": "[encoded data removed]",
      "text/plain": [
       "<Figure size 1080x360 with 1 Axes>"
      ]
     },
     "metadata": {},
     "output_type": "display_data"
    }
   ],
   "source": [
    "plt.figure(figsize=(15, 5))\n",
    "sns.boxplot(x=\"type\", y=\"seats\", hue = 'chain', \n",
    "            data=df.groupby(['id', 'type', 'chain'], as_index = False)['seats'].sum().query('seats < 400'))\n",
    "ax.set_xlabel('Вид заведения')\n",
    "ax.set_ylabel('Количество заведений')"
   ]
  },
  {
   "cell_type": "markdown",
   "metadata": {},
   "source": [
    "График ограничен сверху 400 местами.\n",
    "- для большинства типов заведений характерно то, что в сетевых заведениях больше мест, чем в несетевых - как по медиане, так и по верхним значениями; исключением являются буфеты и столовые, которые почти не бывают сетевыми, и рестораны; \n",
    "- закусочные, кафетерии и кулинарии, как и следовало ожидать, очень маленькие - половина не достигает 10 человек;\n",
    "- медиана кафе, баров и фастфудов ниже 50 человек;\n",
    "- самые большие - рестораны и столовые, их медиана близка к 100 людям. Рестораны также являются единственной категорией, в которые сетевые больше, чем несетевые."
   ]
  },
  {
   "cell_type": "markdown",
   "metadata": {},
   "source": [
    "### Топ-10 улиц по количеству объектов общественного питания <a id=\"2_5\"></a>  \n",
    "Постройте график топ-10 улиц по количеству объектов общественного питания. Воспользуйтесь внешней информацией и ответьте на вопрос — в каких районах Москвы находятся эти улицы?  "
   ]
  },
  {
   "cell_type": "markdown",
   "metadata": {},
   "source": [
    "Для начала загружаю классификатор улиц Москвы с data.mos.ru и подтягиваю их к основной таблице:"
   ]
  },
  {
   "cell_type": "code",
   "execution_count": 34,
   "metadata": {},
   "outputs": [
    {
     "data": {
      "text/html": [
       "<div>\n",
       "<style scoped>\n",
       "    .dataframe tbody tr th:only-of-type {\n",
       "        vertical-align: middle;\n",
       "    }\n",
       "\n",
       "    .dataframe tbody tr th {\n",
       "        vertical-align: top;\n",
       "    }\n",
       "\n",
       "    .dataframe thead th {\n",
       "        text-align: right;\n",
       "    }\n",
       "</style>\n",
       "<table border=\"1\" class=\"dataframe\">\n",
       "  <thead>\n",
       "    <tr style=\"text-align: right;\">\n",
       "      <th></th>\n",
       "      <th>UM_NAMEF</th>\n",
       "      <th>UM_CODE</th>\n",
       "    </tr>\n",
       "  </thead>\n",
       "  <tbody>\n",
       "    <tr>\n",
       "      <td>0</td>\n",
       "      <td>1-й Ирининский переулок</td>\n",
       "      <td>8880</td>\n",
       "    </tr>\n",
       "    <tr>\n",
       "      <td>1</td>\n",
       "      <td>2-й Ирининский переулок</td>\n",
       "      <td>8890</td>\n",
       "    </tr>\n",
       "  </tbody>\n",
       "</table>\n",
       "</div>"
      ],
      "text/plain": [
       "                  UM_NAMEF  UM_CODE\n",
       "0  1-й Ирининский переулок     8880\n",
       "1  2-й Ирининский переулок     8890"
      ]
     },
     "execution_count": 34,
     "metadata": {},
     "output_type": "execute_result"
    }
   ],
   "source": [
    "mosopen = pd.read_excel('mosopen.xlsx')\n",
    "mosopen = mosopen.drop_duplicates(subset = 'UM_NAMEF').reset_index(drop=True)\n",
    "mosopen.head(2)"
   ]
  },
  {
   "cell_type": "code",
   "execution_count": 35,
   "metadata": {},
   "outputs": [
    {
     "data": {
      "text/html": [
       "<div>\n",
       "<style scoped>\n",
       "    .dataframe tbody tr th:only-of-type {\n",
       "        vertical-align: middle;\n",
       "    }\n",
       "\n",
       "    .dataframe tbody tr th {\n",
       "        vertical-align: top;\n",
       "    }\n",
       "\n",
       "    .dataframe thead th {\n",
       "        text-align: right;\n",
       "    }\n",
       "</style>\n",
       "<table border=\"1\" class=\"dataframe\">\n",
       "  <thead>\n",
       "    <tr style=\"text-align: right;\">\n",
       "      <th></th>\n",
       "      <th>id</th>\n",
       "      <th>name</th>\n",
       "      <th>chain</th>\n",
       "      <th>type</th>\n",
       "      <th>address</th>\n",
       "      <th>seats</th>\n",
       "      <th>city</th>\n",
       "      <th>street</th>\n",
       "      <th>code</th>\n",
       "    </tr>\n",
       "  </thead>\n",
       "  <tbody>\n",
       "    <tr>\n",
       "      <td>0</td>\n",
       "      <td>151635</td>\n",
       "      <td>сметана</td>\n",
       "      <td>нет</td>\n",
       "      <td>кафе</td>\n",
       "      <td>улица Егора Абакумова, дом 9</td>\n",
       "      <td>48</td>\n",
       "      <td>Москва</td>\n",
       "      <td>улица Егора Абакумова</td>\n",
       "      <td>10.0</td>\n",
       "    </tr>\n",
       "    <tr>\n",
       "      <td>1</td>\n",
       "      <td>77874</td>\n",
       "      <td>родник</td>\n",
       "      <td>нет</td>\n",
       "      <td>кафе</td>\n",
       "      <td>улица Талалихина, дом 2/1, корпус 1</td>\n",
       "      <td>35</td>\n",
       "      <td>Москва</td>\n",
       "      <td>улица Талалихина</td>\n",
       "      <td>27540.0</td>\n",
       "    </tr>\n",
       "  </tbody>\n",
       "</table>\n",
       "</div>"
      ],
      "text/plain": [
       "       id     name chain  type                              address  seats  \\\n",
       "0  151635  сметана   нет  кафе         улица Егора Абакумова, дом 9     48   \n",
       "1   77874   родник   нет  кафе  улица Талалихина, дом 2/1, корпус 1     35   \n",
       "\n",
       "     city                 street     code  \n",
       "0  Москва  улица Егора Абакумова     10.0  \n",
       "1  Москва       улица Талалихина  27540.0  "
      ]
     },
     "execution_count": 35,
     "metadata": {},
     "output_type": "execute_result"
    }
   ],
   "source": [
    "df = df.merge(mosopen, left_on='street', right_on='UM_NAMEF', how = 'left')\n",
    "del df['UM_NAMEF']\n",
    "df.columns = ['id', 'name', 'chain', 'type', 'address', 'seats', 'city', 'street','code']\n",
    "df['code'] = df['code'].astype(str)\n",
    "df.head(2)"
   ]
  },
  {
   "cell_type": "code",
   "execution_count": 36,
   "metadata": {},
   "outputs": [
    {
     "name": "stdout",
     "output_type": "stream",
     "text": [
      "Удалось подтянуть код для 100% улиц\n"
     ]
    }
   ],
   "source": [
    "print('Удалось подтянуть код для {:.0%} улиц'.format(1-df['code'].isnull().sum() / len(df)))"
   ]
  },
  {
   "cell_type": "markdown",
   "metadata": {},
   "source": [
    "Парсер собирает данные по району с сайта mosopen.ru, добавляю их в отдельный столбец (после первого использования сохраняю результат в файл и оставляю код запуска парсинга закомментированным): "
   ]
  },
  {
   "cell_type": "code",
   "execution_count": 37,
   "metadata": {},
   "outputs": [],
   "source": [
    "def districts(i):\n",
    "    try:\n",
    "        main_url = 'http://mosopen.ru/street/'\n",
    "        url = main_url + i + '/'\n",
    "        req = requests.get(url)\n",
    "        soup = BeautifulSoup(req.text, 'lxml')\n",
    "        div = soup.find('div', id = 'content')\n",
    "        paragraphs = div.find_all('p')\n",
    "        a = paragraphs[1].find_all('a')\n",
    "        district = a[0].text\n",
    "        return district\n",
    "    except:\n",
    "        return None"
   ]
  },
  {
   "cell_type": "code",
   "execution_count": 38,
   "metadata": {},
   "outputs": [],
   "source": [
    "#df['district'] = df['code'].apply(districts)"
   ]
  },
  {
   "cell_type": "markdown",
   "metadata": {},
   "source": [
    "Сохраняю результат в файл:"
   ]
  },
  {
   "cell_type": "code",
   "execution_count": 39,
   "metadata": {},
   "outputs": [],
   "source": [
    "#df.to_csv('df.csv') "
   ]
  },
  {
   "cell_type": "code",
   "execution_count": 40,
   "metadata": {},
   "outputs": [
    {
     "data": {
      "text/html": [
       "<div>\n",
       "<style scoped>\n",
       "    .dataframe tbody tr th:only-of-type {\n",
       "        vertical-align: middle;\n",
       "    }\n",
       "\n",
       "    .dataframe tbody tr th {\n",
       "        vertical-align: top;\n",
       "    }\n",
       "\n",
       "    .dataframe thead th {\n",
       "        text-align: right;\n",
       "    }\n",
       "</style>\n",
       "<table border=\"1\" class=\"dataframe\">\n",
       "  <thead>\n",
       "    <tr style=\"text-align: right;\">\n",
       "      <th></th>\n",
       "      <th>id</th>\n",
       "      <th>name</th>\n",
       "      <th>chain</th>\n",
       "      <th>type</th>\n",
       "      <th>address</th>\n",
       "      <th>seats</th>\n",
       "      <th>city</th>\n",
       "      <th>street</th>\n",
       "      <th>code</th>\n",
       "      <th>district</th>\n",
       "    </tr>\n",
       "  </thead>\n",
       "  <tbody>\n",
       "    <tr>\n",
       "      <td>0</td>\n",
       "      <td>151635</td>\n",
       "      <td>сметана</td>\n",
       "      <td>нет</td>\n",
       "      <td>кафе</td>\n",
       "      <td>улица Егора Абакумова, дом 9</td>\n",
       "      <td>48</td>\n",
       "      <td>Москва</td>\n",
       "      <td>улица Егора Абакумова</td>\n",
       "      <td>10.0</td>\n",
       "      <td>Ярославском районе</td>\n",
       "    </tr>\n",
       "    <tr>\n",
       "      <td>1</td>\n",
       "      <td>77874</td>\n",
       "      <td>родник</td>\n",
       "      <td>нет</td>\n",
       "      <td>кафе</td>\n",
       "      <td>улица Талалихина, дом 2/1, корпус 1</td>\n",
       "      <td>35</td>\n",
       "      <td>Москва</td>\n",
       "      <td>улица Талалихина</td>\n",
       "      <td>27540.0</td>\n",
       "      <td>Нижегородский</td>\n",
       "    </tr>\n",
       "  </tbody>\n",
       "</table>\n",
       "</div>"
      ],
      "text/plain": [
       "       id     name chain  type                              address  seats  \\\n",
       "0  151635  сметана   нет  кафе         улица Егора Абакумова, дом 9     48   \n",
       "1   77874   родник   нет  кафе  улица Талалихина, дом 2/1, корпус 1     35   \n",
       "\n",
       "     city                 street     code            district  \n",
       "0  Москва  улица Егора Абакумова     10.0  Ярославском районе  \n",
       "1  Москва       улица Талалихина  27540.0       Нижегородский  "
      ]
     },
     "execution_count": 40,
     "metadata": {},
     "output_type": "execute_result"
    }
   ],
   "source": [
    "df = pd.read_csv('df.csv')\n",
    "del df['Unnamed: 0']\n",
    "df.head(2)"
   ]
  },
  {
   "cell_type": "code",
   "execution_count": 41,
   "metadata": {},
   "outputs": [
    {
     "name": "stdout",
     "output_type": "stream",
     "text": [
      "Сокращено 68 дублирующихся названий районов\n"
     ]
    }
   ],
   "source": [
    "undstrc = df['district'].nunique()\n",
    "df['district'] = df['district'].str.replace('районе ', '')\n",
    "df['district'] = df['district'].str.replace(' районе', '')\n",
    "df['district'] = df['district'].str.replace('Тверском', 'Тверской')\n",
    "df['district'] = df['district'].str.replace('ком', 'кий')\n",
    "df['district'] = df['district'].str.replace('Басманном', 'Басманный')\n",
    "df['district'] = df['district'].str.replace('Савёлки, районе Орехово-Борисово Северное, ', 'Савёлки')\n",
    "print('Сокращено {:.0f} дублирующихся названий районов'.format(undstrc - df['district'].nunique()))"
   ]
  },
  {
   "cell_type": "markdown",
   "metadata": {},
   "source": [
    "Теперь выделяю топ-10 улиц по количеству заведений:"
   ]
  },
  {
   "cell_type": "code",
   "execution_count": 42,
   "metadata": {},
   "outputs": [
    {
     "data": {
      "text/html": [
       "<div>\n",
       "<style scoped>\n",
       "    .dataframe tbody tr th:only-of-type {\n",
       "        vertical-align: middle;\n",
       "    }\n",
       "\n",
       "    .dataframe tbody tr th {\n",
       "        vertical-align: top;\n",
       "    }\n",
       "\n",
       "    .dataframe thead th {\n",
       "        text-align: right;\n",
       "    }\n",
       "</style>\n",
       "<table border=\"1\" class=\"dataframe\">\n",
       "  <thead>\n",
       "    <tr style=\"text-align: right;\">\n",
       "      <th></th>\n",
       "      <th>street</th>\n",
       "      <th>district</th>\n",
       "      <th>id</th>\n",
       "    </tr>\n",
       "  </thead>\n",
       "  <tbody>\n",
       "    <tr>\n",
       "      <td>1346</td>\n",
       "      <td>проспект Мира</td>\n",
       "      <td>Алексеевский</td>\n",
       "      <td>197</td>\n",
       "    </tr>\n",
       "    <tr>\n",
       "      <td>957</td>\n",
       "      <td>Профсоюзная улица</td>\n",
       "      <td>Академический</td>\n",
       "      <td>180</td>\n",
       "    </tr>\n",
       "    <tr>\n",
       "      <td>643</td>\n",
       "      <td>Ленинградский проспект</td>\n",
       "      <td>Аэропорт</td>\n",
       "      <td>171</td>\n",
       "    </tr>\n",
       "    <tr>\n",
       "      <td>942</td>\n",
       "      <td>Пресненская набережная</td>\n",
       "      <td>Пресненский</td>\n",
       "      <td>165</td>\n",
       "    </tr>\n",
       "    <tr>\n",
       "      <td>379</td>\n",
       "      <td>Варшавское шоссе</td>\n",
       "      <td>Северное Бутово</td>\n",
       "      <td>163</td>\n",
       "    </tr>\n",
       "    <tr>\n",
       "      <td>646</td>\n",
       "      <td>Ленинский проспект</td>\n",
       "      <td>Гагаринский</td>\n",
       "      <td>148</td>\n",
       "    </tr>\n",
       "    <tr>\n",
       "      <td>1344</td>\n",
       "      <td>проспект Вернадского</td>\n",
       "      <td>Гагаринский</td>\n",
       "      <td>127</td>\n",
       "    </tr>\n",
       "    <tr>\n",
       "      <td>634</td>\n",
       "      <td>Кутузовский проспект</td>\n",
       "      <td>Дорогомилово</td>\n",
       "      <td>112</td>\n",
       "    </tr>\n",
       "    <tr>\n",
       "      <td>559</td>\n",
       "      <td>Каширское шоссе</td>\n",
       "      <td>Москворечье-Сабурово</td>\n",
       "      <td>110</td>\n",
       "    </tr>\n",
       "    <tr>\n",
       "      <td>565</td>\n",
       "      <td>Кировоградская улица</td>\n",
       "      <td>Северное Чертаново</td>\n",
       "      <td>106</td>\n",
       "    </tr>\n",
       "  </tbody>\n",
       "</table>\n",
       "</div>"
      ],
      "text/plain": [
       "                      street              district   id\n",
       "1346           проспект Мира          Алексеевский  197\n",
       "957        Профсоюзная улица         Академический  180\n",
       "643   Ленинградский проспект              Аэропорт  171\n",
       "942   Пресненская набережная           Пресненский  165\n",
       "379         Варшавское шоссе       Северное Бутово  163\n",
       "646       Ленинский проспект           Гагаринский  148\n",
       "1344    проспект Вернадского           Гагаринский  127\n",
       "634     Кутузовский проспект          Дорогомилово  112\n",
       "559          Каширское шоссе  Москворечье-Сабурово  110\n",
       "565     Кировоградская улица    Северное Чертаново  106"
      ]
     },
     "execution_count": 42,
     "metadata": {},
     "output_type": "execute_result"
    }
   ],
   "source": [
    "df.groupby(['street', 'district'], as_index = False)['id'].count().sort_values(by = 'id', ascending = False).head(10)"
   ]
  },
  {
   "cell_type": "markdown",
   "metadata": {},
   "source": [
    "Ни один район, кроме Гагаринского, не повторяется дважды.  \n",
    "Также можно посмотреть количество улиц и заведений для каждого района:"
   ]
  },
  {
   "cell_type": "code",
   "execution_count": 43,
   "metadata": {},
   "outputs": [
    {
     "data": {
      "text/html": [
       "<div>\n",
       "<style scoped>\n",
       "    .dataframe tbody tr th:only-of-type {\n",
       "        vertical-align: middle;\n",
       "    }\n",
       "\n",
       "    .dataframe tbody tr th {\n",
       "        vertical-align: top;\n",
       "    }\n",
       "\n",
       "    .dataframe thead th {\n",
       "        text-align: right;\n",
       "    }\n",
       "</style>\n",
       "<table border=\"1\" class=\"dataframe\">\n",
       "  <thead>\n",
       "    <tr style=\"text-align: right;\">\n",
       "      <th></th>\n",
       "      <th>district</th>\n",
       "      <th>street</th>\n",
       "      <th>id</th>\n",
       "      <th>seats</th>\n",
       "      <th>rest_per_street</th>\n",
       "    </tr>\n",
       "  </thead>\n",
       "  <tbody>\n",
       "    <tr>\n",
       "      <td>96</td>\n",
       "      <td>Северное Чертаново</td>\n",
       "      <td>3</td>\n",
       "      <td>153</td>\n",
       "      <td>10307</td>\n",
       "      <td>51.000000</td>\n",
       "    </tr>\n",
       "    <tr>\n",
       "      <td>23</td>\n",
       "      <td>Гагаринский</td>\n",
       "      <td>10</td>\n",
       "      <td>349</td>\n",
       "      <td>22264</td>\n",
       "      <td>34.900000</td>\n",
       "    </tr>\n",
       "    <tr>\n",
       "      <td>0</td>\n",
       "      <td>Академический</td>\n",
       "      <td>13</td>\n",
       "      <td>406</td>\n",
       "      <td>18887</td>\n",
       "      <td>31.230769</td>\n",
       "    </tr>\n",
       "    <tr>\n",
       "      <td>91</td>\n",
       "      <td>Северное Бутово</td>\n",
       "      <td>11</td>\n",
       "      <td>241</td>\n",
       "      <td>14515</td>\n",
       "      <td>21.909091</td>\n",
       "    </tr>\n",
       "    <tr>\n",
       "      <td>8</td>\n",
       "      <td>Бескудниковский</td>\n",
       "      <td>9</td>\n",
       "      <td>195</td>\n",
       "      <td>12907</td>\n",
       "      <td>21.666667</td>\n",
       "    </tr>\n",
       "  </tbody>\n",
       "</table>\n",
       "</div>"
      ],
      "text/plain": [
       "              district  street   id  seats  rest_per_street\n",
       "96  Северное Чертаново       3  153  10307        51.000000\n",
       "23         Гагаринский      10  349  22264        34.900000\n",
       "0        Академический      13  406  18887        31.230769\n",
       "91     Северное Бутово      11  241  14515        21.909091\n",
       "8      Бескудниковский       9  195  12907        21.666667"
      ]
     },
     "execution_count": 43,
     "metadata": {},
     "output_type": "execute_result"
    }
   ],
   "source": [
    "districts = df.groupby(['district'], as_index = False).agg({'street':'nunique', 'id':'nunique', 'seats':'sum'})\n",
    "districts = districts.sort_values(by = 'id', ascending = False)\n",
    "districts['rest_per_street'] = districts['id'] / districts['street']\n",
    "districts = districts.sort_values(by = 'rest_per_street', ascending = False)\n",
    "districts.head()"
   ]
  },
  {
   "cell_type": "markdown",
   "metadata": {},
   "source": [
    "Кировоградская улица Северного Чертаново была только на 10 месте в списке улиц, зато в среднем в Северном Чертаново больше всего ресторанов на улицу. "
   ]
  },
  {
   "cell_type": "markdown",
   "metadata": {},
   "source": [
    "### Улицы с одним объектом общественного питания  <a id=\"2_6\"></a>  \n",
    "Воспользуйтесь внешней информацией и ответьте на вопрос — в каких районах Москвы находятся эти улицы?"
   ]
  },
  {
   "cell_type": "code",
   "execution_count": 44,
   "metadata": {},
   "outputs": [
    {
     "data": {
      "text/html": [
       "<div>\n",
       "<style scoped>\n",
       "    .dataframe tbody tr th:only-of-type {\n",
       "        vertical-align: middle;\n",
       "    }\n",
       "\n",
       "    .dataframe tbody tr th {\n",
       "        vertical-align: top;\n",
       "    }\n",
       "\n",
       "    .dataframe thead th {\n",
       "        text-align: right;\n",
       "    }\n",
       "</style>\n",
       "<table border=\"1\" class=\"dataframe\">\n",
       "  <thead>\n",
       "    <tr style=\"text-align: right;\">\n",
       "      <th></th>\n",
       "      <th>district</th>\n",
       "      <th>id</th>\n",
       "    </tr>\n",
       "  </thead>\n",
       "  <tbody>\n",
       "    <tr>\n",
       "      <td>0</td>\n",
       "      <td>Басманный</td>\n",
       "      <td>26</td>\n",
       "    </tr>\n",
       "    <tr>\n",
       "      <td>1</td>\n",
       "      <td>Таганский</td>\n",
       "      <td>24</td>\n",
       "    </tr>\n",
       "    <tr>\n",
       "      <td>2</td>\n",
       "      <td>Хамовники</td>\n",
       "      <td>22</td>\n",
       "    </tr>\n",
       "    <tr>\n",
       "      <td>3</td>\n",
       "      <td>Тверской</td>\n",
       "      <td>19</td>\n",
       "    </tr>\n",
       "    <tr>\n",
       "      <td>4</td>\n",
       "      <td>Арбат</td>\n",
       "      <td>18</td>\n",
       "    </tr>\n",
       "  </tbody>\n",
       "</table>\n",
       "</div>"
      ],
      "text/plain": [
       "    district  id\n",
       "0  Басманный  26\n",
       "1  Таганский  24\n",
       "2  Хамовники  22\n",
       "3   Тверской  19\n",
       "4      Арбат  18"
      ]
     },
     "execution_count": 44,
     "metadata": {},
     "output_type": "execute_result"
    }
   ],
   "source": [
    "distrcits_w1rest = df.groupby(['street', 'district'], as_index = False)['id'].count().query('id == 1')\\\n",
    "        .groupby('district', as_index = False)['id'].count().sort_values(by = 'id', ascending = False).reset_index(drop=True)\n",
    "distrcits_w1rest.head(5)"
   ]
  },
  {
   "cell_type": "code",
   "execution_count": 45,
   "metadata": {},
   "outputs": [
    {
     "data": {
      "text/plain": [
       "5.0"
      ]
     },
     "execution_count": 45,
     "metadata": {},
     "output_type": "execute_result"
    }
   ],
   "source": [
    "round(distrcits_w1rest['id'].mean())"
   ]
  },
  {
   "cell_type": "markdown",
   "metadata": {},
   "source": [
    "В среднем в каждом районе есть по 5 улиц с 1 рестораном, но в Басманном их 26."
   ]
  },
  {
   "cell_type": "markdown",
   "metadata": {},
   "source": [
    "### Распределение количества посадочных мест <a id=\"2_7\"></a>  \n",
    "Посмотрите на распределение количества посадочных мест для улиц с большим количеством объектов общественного питания. Какие закономерности можно выявить?  \n",
    "  \n",
    "Для начала строю график распределения количества заведений на улицу, чтобы определить, что считать большим значением: "
   ]
  },
  {
   "cell_type": "code",
   "execution_count": 46,
   "metadata": {},
   "outputs": [
    {
     "data": {
      "text/plain": [
       "<matplotlib.axes._subplots.AxesSubplot at 0x7fe2cc7fe290>"
      ]
     },
     "execution_count": 46,
     "metadata": {},
     "output_type": "execute_result"
    },
    {
     "data": {
      "image/png": "[encoded data removed]",
      "text/plain": [
       "<Figure size 1080x288 with 1 Axes>"
      ]
     },
     "metadata": {},
     "output_type": "display_data"
    }
   ],
   "source": [
    "rest_per_street = df.groupby('street',as_index=False)['id'].count()\n",
    "rest_per_street.columns = ['street', 'n_rests']\n",
    "plt.figure(figsize=(15, 4))\n",
    "sns.violinplot(data = rest_per_street[rest_per_street['n_rests'] < 50]['n_rests'], orient = 'h')"
   ]
  },
  {
   "cell_type": "code",
   "execution_count": 47,
   "metadata": {},
   "outputs": [
    {
     "name": "stdout",
     "output_type": "stream",
     "text": [
      "Судя по графику, под \"улицей с большим количеством объектов общественного питания\" можно понимать верхние 10% улиц с 17 и более заведениями.\n"
     ]
    }
   ],
   "source": [
    "print('Судя по графику, под \"улицей с большим количеством объектов общественного питания\" можно понимать верхние 10% улиц с {:.0f} и более заведениями.'.format(rest_per_street['n_rests'].quantile(0.9)))"
   ]
  },
  {
   "cell_type": "markdown",
   "metadata": {},
   "source": [
    "Делаю новый датафрейм, в который подтягиваю количество ресторанов на каждой улице, и строю графики распределения количества мест в заведении по (а) всем заведениям (оранженвый цвет), и (б) только по заведениям, которые находятся на улице с более чем 17 ресторанами. Все графики ограничены ресторанами до 100 мест."
   ]
  },
  {
   "cell_type": "code",
   "execution_count": 48,
   "metadata": {},
   "outputs": [
    {
     "name": "stdout",
     "output_type": "stream",
     "text": [
      "0.5599807676897187\n"
     ]
    },
    {
     "data": {
      "image/png": "[encoded data removed]",
      "text/plain": [
       "<Figure size 1080x288 with 1 Axes>"
      ]
     },
     "metadata": {},
     "output_type": "display_data"
    }
   ],
   "source": [
    "streets_rests = df.merge(rest_per_street, on = 'street', how = 'left')\n",
    "plt.figure(figsize=(15, 4))\n",
    "sns.distplot(streets_rests.query('seats < 100 and n_rests > 17')['seats'], hist_kws={\"alpha\": 0.3, \"color\": \"blue\"}, bins = 50)\n",
    "sns.distplot(streets_rests.query('seats < 100')['seats'], hist_kws={\"alpha\": 0.3, \"color\": \"orange\"}, bins = 50)\n",
    "print(len(streets_rests.query('seats < 100 and n_rests > 17')) / len(streets_rests.query('seats < 100')))"
   ]
  },
  {
   "cell_type": "markdown",
   "metadata": {},
   "source": [
    "Как видно на графике, распределение практически совпадает, с той лишь разницей, что на популярных улицах чуть больше маленьких заведений (до 30 мест) и чуть меньше - больших (больше 30 мест). В остальном распределение совпадает. Это ожидаемо, потому что, с одной стороны, на загруженных улицах меньше места для больших ресторанов, а с другой, на 10% самых популярных улиц находится 56% всех ресторанов, поэтому распределение этой выборки не должно сильно отличаться от распределения всей популяции."
   ]
  },
  {
   "cell_type": "markdown",
   "metadata": {},
   "source": [
    "### Общий вывод <a id=\"2_8\"></a>  \n",
    "Основные выводы представлены в разделах выше. Общий вывод следующий:  \n",
    "Небольшие (на ~30 посетителей) несетевые (77%) кафе – это наиболее массовые заведения в Москве. Это говорит и об их популярности, и о высокой конкуренции. Необычный формат с роботами может стать успешным конкуретным преимуществом, поэтому имеет смысл не избегать конкуренции, а разместить кафе в одном из наиболее популярных районов - Пресненском, Басманном, Даниловском или Тверском. При успехе первого заведения в дальнейшем можно расширяться, следуя одной из двух стратегий: увеличивать размер кафе или расширять сеть, однако, судя по опыту конкурентов, не то и другое одновременно. "
   ]
  },
  {
   "cell_type": "markdown",
   "metadata": {},
   "source": [
    "## Шаг №3. Презентация <a id=\"3\"></a>  \n",
    "\n",
    "[Презентация доступна по ссылке](https://yadi.sk/i/MsIuE2M61dWs3Q)"
   ]
  }
 ],
 "metadata": {
  "kernelspec": {
   "display_name": "Python 3",
   "language": "python",
   "name": "python3"
  },
  "language_info": {
   "codemirror_mode": {
    "name": "ipython",
    "version": 3
   },
   "file_extension": ".py",
   "mimetype": "text/x-python",
   "name": "python",
   "nbconvert_exporter": "python",
   "pygments_lexer": "ipython3",
   "version": "3.8.1"
  }
 },
 "nbformat": 4,
 "nbformat_minor": 2
}
